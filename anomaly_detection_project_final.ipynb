{
 "cells": [
  {
   "cell_type": "markdown",
   "id": "d0687b3e",
   "metadata": {},
   "source": [
    "# Anomaly Detection Project"
   ]
  },
  {
   "cell_type": "markdown",
   "id": "39c734ef",
   "metadata": {},
   "source": [
    "# Imports "
   ]
  },
  {
   "cell_type": "code",
   "execution_count": 1,
   "id": "01bb33d8",
   "metadata": {},
   "outputs": [],
   "source": [
    "#standard DS imports\n",
    "import numpy as np\n",
    "import pandas as pd\n",
    "import math\n",
    "import os\n",
    "\n",
    "#custom imports\n",
    "import env\n",
    "from env import get_connection\n",
    "import acquire\n",
    "import prepare\n",
    "import functions\n",
    "\n",
    "#filter out any noisy warning flags\n",
    "import warnings\n",
    "warnings.filterwarnings(\"ignore\")"
   ]
  },
  {
   "cell_type": "markdown",
   "id": "0d557343",
   "metadata": {},
   "source": [
    "# Acquire\n",
    "\n",
    "- Data acquired from the codeup curriculum_logs database\n",
    "- It contained 847,330 rows and 15 columns before cleaning\n",
    "- Each row represents a log in into codeup's website and curriculum\n",
    "- Each column represents information about the log in and the user"
   ]
  },
  {
   "cell_type": "code",
   "execution_count": 2,
   "id": "ffd8a6a7",
   "metadata": {},
   "outputs": [],
   "source": [
    "\n",
    "df = acquire.offline_lesson_kernel_restart()"
   ]
  },
  {
   "cell_type": "markdown",
   "id": "14a28393",
   "metadata": {},
   "source": [
    "# Prepare\n",
    "\n",
    "Prepare Actions:\n",
    "\n",
    "- Added a column (fixed_date) that combined the date and time columns\n",
    "- Set the index to the fixed_date column\n",
    "- Dropped unnecessary and redundant columns\n",
    "- Added four columns to identify the codeup programs\n",
    "- Added a column to identify if a log in attempt occured when a codeup student was active or not"
   ]
  },
  {
   "cell_type": "code",
   "execution_count": 3,
   "id": "00d6f1c0",
   "metadata": {},
   "outputs": [],
   "source": [
    "df = prepare.prep_curr_logs(df)"
   ]
  },
  {
   "cell_type": "markdown",
   "id": "56b8d635",
   "metadata": {},
   "source": [
    "# A brief look at the data"
   ]
  },
  {
   "cell_type": "code",
   "execution_count": 4,
   "id": "bf163760",
   "metadata": {},
   "outputs": [
    {
     "data": {
      "text/html": [
       "<div>\n",
       "<style scoped>\n",
       "    .dataframe tbody tr th:only-of-type {\n",
       "        vertical-align: middle;\n",
       "    }\n",
       "\n",
       "    .dataframe tbody tr th {\n",
       "        vertical-align: top;\n",
       "    }\n",
       "\n",
       "    .dataframe thead th {\n",
       "        text-align: right;\n",
       "    }\n",
       "</style>\n",
       "<table border=\"1\" class=\"dataframe\">\n",
       "  <thead>\n",
       "    <tr style=\"text-align: right;\">\n",
       "      <th></th>\n",
       "      <th>path</th>\n",
       "      <th>user_id</th>\n",
       "      <th>cohort_id</th>\n",
       "      <th>ip</th>\n",
       "      <th>name</th>\n",
       "      <th>start_date</th>\n",
       "      <th>end_date</th>\n",
       "      <th>created_at</th>\n",
       "      <th>updated_at</th>\n",
       "      <th>program_id</th>\n",
       "      <th>fixed_date</th>\n",
       "      <th>data</th>\n",
       "      <th>web</th>\n",
       "      <th>php</th>\n",
       "      <th>front_end</th>\n",
       "      <th>is_active</th>\n",
       "    </tr>\n",
       "    <tr>\n",
       "      <th>fixed_date</th>\n",
       "      <th></th>\n",
       "      <th></th>\n",
       "      <th></th>\n",
       "      <th></th>\n",
       "      <th></th>\n",
       "      <th></th>\n",
       "      <th></th>\n",
       "      <th></th>\n",
       "      <th></th>\n",
       "      <th></th>\n",
       "      <th></th>\n",
       "      <th></th>\n",
       "      <th></th>\n",
       "      <th></th>\n",
       "      <th></th>\n",
       "      <th></th>\n",
       "    </tr>\n",
       "  </thead>\n",
       "  <tbody>\n",
       "    <tr>\n",
       "      <th>2018-01-26 09:55:03</th>\n",
       "      <td>/</td>\n",
       "      <td>1</td>\n",
       "      <td>8.0</td>\n",
       "      <td>97.105.19.61</td>\n",
       "      <td>Hampton</td>\n",
       "      <td>2015-09-22</td>\n",
       "      <td>2016-02-06</td>\n",
       "      <td>2016-06-14 19:52:26</td>\n",
       "      <td>2016-06-14 19:52:26</td>\n",
       "      <td>1</td>\n",
       "      <td>2018-01-26 09:55:03</td>\n",
       "      <td>False</td>\n",
       "      <td>False</td>\n",
       "      <td>True</td>\n",
       "      <td>False</td>\n",
       "      <td>0</td>\n",
       "    </tr>\n",
       "    <tr>\n",
       "      <th>2018-01-26 09:56:02</th>\n",
       "      <td>java-ii</td>\n",
       "      <td>1</td>\n",
       "      <td>8.0</td>\n",
       "      <td>97.105.19.61</td>\n",
       "      <td>Hampton</td>\n",
       "      <td>2015-09-22</td>\n",
       "      <td>2016-02-06</td>\n",
       "      <td>2016-06-14 19:52:26</td>\n",
       "      <td>2016-06-14 19:52:26</td>\n",
       "      <td>1</td>\n",
       "      <td>2018-01-26 09:56:02</td>\n",
       "      <td>False</td>\n",
       "      <td>False</td>\n",
       "      <td>True</td>\n",
       "      <td>False</td>\n",
       "      <td>0</td>\n",
       "    </tr>\n",
       "    <tr>\n",
       "      <th>2018-01-26 09:56:05</th>\n",
       "      <td>java-ii/object-oriented-programming</td>\n",
       "      <td>1</td>\n",
       "      <td>8.0</td>\n",
       "      <td>97.105.19.61</td>\n",
       "      <td>Hampton</td>\n",
       "      <td>2015-09-22</td>\n",
       "      <td>2016-02-06</td>\n",
       "      <td>2016-06-14 19:52:26</td>\n",
       "      <td>2016-06-14 19:52:26</td>\n",
       "      <td>1</td>\n",
       "      <td>2018-01-26 09:56:05</td>\n",
       "      <td>False</td>\n",
       "      <td>False</td>\n",
       "      <td>True</td>\n",
       "      <td>False</td>\n",
       "      <td>0</td>\n",
       "    </tr>\n",
       "    <tr>\n",
       "      <th>2018-01-26 09:56:06</th>\n",
       "      <td>slides/object_oriented_programming</td>\n",
       "      <td>1</td>\n",
       "      <td>8.0</td>\n",
       "      <td>97.105.19.61</td>\n",
       "      <td>Hampton</td>\n",
       "      <td>2015-09-22</td>\n",
       "      <td>2016-02-06</td>\n",
       "      <td>2016-06-14 19:52:26</td>\n",
       "      <td>2016-06-14 19:52:26</td>\n",
       "      <td>1</td>\n",
       "      <td>2018-01-26 09:56:06</td>\n",
       "      <td>False</td>\n",
       "      <td>False</td>\n",
       "      <td>True</td>\n",
       "      <td>False</td>\n",
       "      <td>0</td>\n",
       "    </tr>\n",
       "    <tr>\n",
       "      <th>2018-01-26 09:56:24</th>\n",
       "      <td>javascript-i/conditionals</td>\n",
       "      <td>2</td>\n",
       "      <td>22.0</td>\n",
       "      <td>97.105.19.61</td>\n",
       "      <td>Teddy</td>\n",
       "      <td>2018-01-08</td>\n",
       "      <td>2018-05-17</td>\n",
       "      <td>2018-01-08 13:59:10</td>\n",
       "      <td>2018-01-08 13:59:10</td>\n",
       "      <td>2</td>\n",
       "      <td>2018-01-26 09:56:24</td>\n",
       "      <td>False</td>\n",
       "      <td>True</td>\n",
       "      <td>False</td>\n",
       "      <td>False</td>\n",
       "      <td>1</td>\n",
       "    </tr>\n",
       "  </tbody>\n",
       "</table>\n",
       "</div>"
      ],
      "text/plain": [
       "                                                    path  user_id  cohort_id  \\\n",
       "fixed_date                                                                     \n",
       "2018-01-26 09:55:03                                    /        1        8.0   \n",
       "2018-01-26 09:56:02                              java-ii        1        8.0   \n",
       "2018-01-26 09:56:05  java-ii/object-oriented-programming        1        8.0   \n",
       "2018-01-26 09:56:06   slides/object_oriented_programming        1        8.0   \n",
       "2018-01-26 09:56:24            javascript-i/conditionals        2       22.0   \n",
       "\n",
       "                               ip     name  start_date    end_date  \\\n",
       "fixed_date                                                           \n",
       "2018-01-26 09:55:03  97.105.19.61  Hampton  2015-09-22  2016-02-06   \n",
       "2018-01-26 09:56:02  97.105.19.61  Hampton  2015-09-22  2016-02-06   \n",
       "2018-01-26 09:56:05  97.105.19.61  Hampton  2015-09-22  2016-02-06   \n",
       "2018-01-26 09:56:06  97.105.19.61  Hampton  2015-09-22  2016-02-06   \n",
       "2018-01-26 09:56:24  97.105.19.61    Teddy  2018-01-08  2018-05-17   \n",
       "\n",
       "                              created_at           updated_at  program_id  \\\n",
       "fixed_date                                                                  \n",
       "2018-01-26 09:55:03  2016-06-14 19:52:26  2016-06-14 19:52:26           1   \n",
       "2018-01-26 09:56:02  2016-06-14 19:52:26  2016-06-14 19:52:26           1   \n",
       "2018-01-26 09:56:05  2016-06-14 19:52:26  2016-06-14 19:52:26           1   \n",
       "2018-01-26 09:56:06  2016-06-14 19:52:26  2016-06-14 19:52:26           1   \n",
       "2018-01-26 09:56:24  2018-01-08 13:59:10  2018-01-08 13:59:10           2   \n",
       "\n",
       "                             fixed_date   data    web    php  front_end  \\\n",
       "fixed_date                                                                \n",
       "2018-01-26 09:55:03 2018-01-26 09:55:03  False  False   True      False   \n",
       "2018-01-26 09:56:02 2018-01-26 09:56:02  False  False   True      False   \n",
       "2018-01-26 09:56:05 2018-01-26 09:56:05  False  False   True      False   \n",
       "2018-01-26 09:56:06 2018-01-26 09:56:06  False  False   True      False   \n",
       "2018-01-26 09:56:24 2018-01-26 09:56:24  False   True  False      False   \n",
       "\n",
       "                     is_active  \n",
       "fixed_date                      \n",
       "2018-01-26 09:55:03          0  \n",
       "2018-01-26 09:56:02          0  \n",
       "2018-01-26 09:56:05          0  \n",
       "2018-01-26 09:56:06          0  \n",
       "2018-01-26 09:56:24          1  "
      ]
     },
     "execution_count": 4,
     "metadata": {},
     "output_type": "execute_result"
    }
   ],
   "source": [
    "df.head()"
   ]
  },
  {
   "cell_type": "markdown",
   "id": "70ff82c6",
   "metadata": {},
   "source": [
    "# Explore"
   ]
  },
  {
   "cell_type": "markdown",
   "id": "e85c6426",
   "metadata": {},
   "source": [
    "# 1. Which lesson appears to attract the most traffic consistently across cohorts (per program)?"
   ]
  },
  {
   "cell_type": "code",
   "execution_count": 5,
   "id": "11286cb2",
   "metadata": {},
   "outputs": [
    {
     "name": "stdout",
     "output_type": "stream",
     "text": [
      "                               path  count\n",
      "program_id                                \n",
      "1                      javascript-i    736\n",
      "2                      javascript-i  17457\n",
      "3           classification/overview   1785\n",
      "4                  content/html-css      2\n"
     ]
    }
   ],
   "source": [
    "#function\n",
    "functions.q_one(df)"
   ]
  },
  {
   "cell_type": "markdown",
   "id": "2d04b01e",
   "metadata": {},
   "source": [
    "***Takeaways***"
   ]
  },
  {
   "cell_type": "markdown",
   "id": "c543a944",
   "metadata": {},
   "source": [
    "# 2. Is there a cohort that referred to a lesson significantly more than other cohorts seemed to gloss over?"
   ]
  },
  {
   "cell_type": "code",
   "execution_count": 6,
   "id": "797472d1",
   "metadata": {},
   "outputs": [
    {
     "data": {
      "text/html": [
       "<div>\n",
       "<style scoped>\n",
       "    .dataframe tbody tr th:only-of-type {\n",
       "        vertical-align: middle;\n",
       "    }\n",
       "\n",
       "    .dataframe tbody tr th {\n",
       "        vertical-align: top;\n",
       "    }\n",
       "\n",
       "    .dataframe thead th {\n",
       "        text-align: right;\n",
       "    }\n",
       "</style>\n",
       "<table border=\"1\" class=\"dataframe\">\n",
       "  <thead>\n",
       "    <tr style=\"text-align: right;\">\n",
       "      <th></th>\n",
       "      <th>path</th>\n",
       "      <th>count</th>\n",
       "    </tr>\n",
       "    <tr>\n",
       "      <th>cohort_id</th>\n",
       "      <th></th>\n",
       "      <th></th>\n",
       "    </tr>\n",
       "  </thead>\n",
       "  <tbody>\n",
       "    <tr>\n",
       "      <th>1.0</th>\n",
       "      <td>javascript-i</td>\n",
       "      <td>294</td>\n",
       "    </tr>\n",
       "    <tr>\n",
       "      <th>2.0</th>\n",
       "      <td>content/php_ii/command-line</td>\n",
       "      <td>6</td>\n",
       "    </tr>\n",
       "    <tr>\n",
       "      <th>4.0</th>\n",
       "      <td>mkdocs/search_index.json</td>\n",
       "      <td>1</td>\n",
       "    </tr>\n",
       "    <tr>\n",
       "      <th>6.0</th>\n",
       "      <td>javascript-ii/es6</td>\n",
       "      <td>10</td>\n",
       "    </tr>\n",
       "    <tr>\n",
       "      <th>7.0</th>\n",
       "      <td>content/html-css</td>\n",
       "      <td>29</td>\n",
       "    </tr>\n",
       "  </tbody>\n",
       "</table>\n",
       "</div>"
      ],
      "text/plain": [
       "                                  path  count\n",
       "cohort_id                                    \n",
       "1.0                       javascript-i    294\n",
       "2.0        content/php_ii/command-line      6\n",
       "4.0           mkdocs/search_index.json      1\n",
       "6.0                  javascript-ii/es6     10\n",
       "7.0                   content/html-css     29"
      ]
     },
     "execution_count": 6,
     "metadata": {},
     "output_type": "execute_result"
    }
   ],
   "source": [
    "#function displaying the cohorts and lessons accessed\n",
    "new_df2 = functions.q_two(df)\n",
    "new_df2.head()"
   ]
  },
  {
   "cell_type": "markdown",
   "id": "20168d70",
   "metadata": {},
   "source": [
    "***Takeaways***\n",
    "\n",
    " - Using the function, we are able to return each lesson that was accessed the most for each cohort.\n",
    "     - We can see that some of the Web Dev cohorts least accessed lesson is related to data science."
   ]
  },
  {
   "cell_type": "markdown",
   "id": "8994ba52",
   "metadata": {},
   "source": [
    "# 3. Are there students who, when active, hardly access the curriculum? If so, what information do you have about these students?"
   ]
  },
  {
   "cell_type": "code",
   "execution_count": 7,
   "id": "27864580",
   "metadata": {},
   "outputs": [
    {
     "data": {
      "text/html": [
       "<div>\n",
       "<style scoped>\n",
       "    .dataframe tbody tr th:only-of-type {\n",
       "        vertical-align: middle;\n",
       "    }\n",
       "\n",
       "    .dataframe tbody tr th {\n",
       "        vertical-align: top;\n",
       "    }\n",
       "\n",
       "    .dataframe thead th {\n",
       "        text-align: right;\n",
       "    }\n",
       "</style>\n",
       "<table border=\"1\" class=\"dataframe\">\n",
       "  <thead>\n",
       "    <tr style=\"text-align: right;\">\n",
       "      <th></th>\n",
       "      <th>ip</th>\n",
       "    </tr>\n",
       "    <tr>\n",
       "      <th>user_id</th>\n",
       "      <th></th>\n",
       "    </tr>\n",
       "  </thead>\n",
       "  <tbody>\n",
       "    <tr>\n",
       "      <th>918</th>\n",
       "      <td>1</td>\n",
       "    </tr>\n",
       "    <tr>\n",
       "      <th>879</th>\n",
       "      <td>1</td>\n",
       "    </tr>\n",
       "    <tr>\n",
       "      <th>940</th>\n",
       "      <td>1</td>\n",
       "    </tr>\n",
       "    <tr>\n",
       "      <th>619</th>\n",
       "      <td>1</td>\n",
       "    </tr>\n",
       "    <tr>\n",
       "      <th>832</th>\n",
       "      <td>3</td>\n",
       "    </tr>\n",
       "  </tbody>\n",
       "</table>\n",
       "</div>"
      ],
      "text/plain": [
       "         ip\n",
       "user_id    \n",
       "918       1\n",
       "879       1\n",
       "940       1\n",
       "619       1\n",
       "832       3"
      ]
     },
     "execution_count": 7,
     "metadata": {},
     "output_type": "execute_result"
    }
   ],
   "source": [
    "#function displaying 50 or less logins when students were active\n",
    "new_df3 = functions.q_three(df)\n",
    "new_df3.head()"
   ]
  },
  {
   "cell_type": "markdown",
   "id": "dae22b0f",
   "metadata": {},
   "source": [
    "***Takeaways***\n",
    "\n",
    "- There are a total of 37 user ids with 50 or less log ins, and four with only one log in.\n",
    "- The single log ins occured on the same day as the user's start date and the ips were all within the Texas area.\n",
    "- After exploring the user's with under 50 log ins, it appears that those students either received a new user id, or because of covid, may have started working from home and recieved a new user id.\n",
    "- Also, these users may not have finished the course as well, but further investigation is necessary to gain a better understanding of these limited login attempts."
   ]
  },
  {
   "cell_type": "markdown",
   "id": "e0741299",
   "metadata": {},
   "source": [
    "# 6. What topics are grads continuing to reference after graduation and into their jobs (for each program)?"
   ]
  },
  {
   "cell_type": "code",
   "execution_count": 8,
   "id": "4d3fdbd5",
   "metadata": {},
   "outputs": [
    {
     "ename": "NameError",
     "evalue": "name 'active_students' is not defined",
     "output_type": "error",
     "traceback": [
      "\u001b[0;31m---------------------------------------------------------------------------\u001b[0m",
      "\u001b[0;31mNameError\u001b[0m                                 Traceback (most recent call last)",
      "\u001b[0;32m/var/folders/2g/_40bymd11_x47n42bls8ypmr0000gn/T/ipykernel_2478/1186306933.py\u001b[0m in \u001b[0;36m<module>\u001b[0;34m\u001b[0m\n\u001b[1;32m      1\u001b[0m \u001b[0;31m#function\u001b[0m\u001b[0;34m\u001b[0m\u001b[0;34m\u001b[0m\u001b[0m\n\u001b[0;32m----> 2\u001b[0;31m \u001b[0mfunctions\u001b[0m\u001b[0;34m.\u001b[0m\u001b[0mq_six\u001b[0m\u001b[0;34m(\u001b[0m\u001b[0mdf\u001b[0m\u001b[0;34m)\u001b[0m\u001b[0;34m\u001b[0m\u001b[0;34m\u001b[0m\u001b[0m\n\u001b[0m",
      "\u001b[0;32m~/codeup-data-science/Anomaly_detect-Project/functions.py\u001b[0m in \u001b[0;36mq_six\u001b[0;34m(df)\u001b[0m\n\u001b[1;32m    112\u001b[0m \u001b[0;34m\u001b[0m\u001b[0m\n\u001b[1;32m    113\u001b[0m     \u001b[0;31m# extra cleaning to remove path names that aren't \"Topics\"\u001b[0m\u001b[0;34m\u001b[0m\u001b[0;34m\u001b[0m\u001b[0m\n\u001b[0;32m--> 114\u001b[0;31m     \u001b[0mmost_accessed_path_by_program\u001b[0m \u001b[0;34m=\u001b[0m \u001b[0minactive_students\u001b[0m\u001b[0;34m[\u001b[0m\u001b[0mactive_students\u001b[0m\u001b[0;34m[\u001b[0m\u001b[0;34m'path'\u001b[0m\u001b[0;34m]\u001b[0m \u001b[0;34m!=\u001b[0m \u001b[0;34m'/'\u001b[0m\u001b[0;34m]\u001b[0m\u001b[0;34m\u001b[0m\u001b[0;34m\u001b[0m\u001b[0m\n\u001b[0m\u001b[1;32m    115\u001b[0m     \u001b[0mmost_accessed_path_by_program\u001b[0m \u001b[0;34m=\u001b[0m \u001b[0mmost_accessed_path_by_program\u001b[0m\u001b[0;34m[\u001b[0m\u001b[0mmost_accessed_path_by_program\u001b[0m\u001b[0;34m[\u001b[0m\u001b[0;34m'path'\u001b[0m\u001b[0;34m]\u001b[0m \u001b[0;34m!=\u001b[0m \u001b[0;34m'toc'\u001b[0m\u001b[0;34m]\u001b[0m\u001b[0;34m\u001b[0m\u001b[0;34m\u001b[0m\u001b[0m\n\u001b[1;32m    116\u001b[0m     \u001b[0mmost_accessed_path_by_program\u001b[0m \u001b[0;34m=\u001b[0m \u001b[0mmost_accessed_path_by_program\u001b[0m\u001b[0;34m[\u001b[0m\u001b[0mmost_accessed_path_by_program\u001b[0m\u001b[0;34m[\u001b[0m\u001b[0;34m'path'\u001b[0m\u001b[0;34m]\u001b[0m \u001b[0;34m!=\u001b[0m \u001b[0;34m'search/search_index.json'\u001b[0m\u001b[0;34m]\u001b[0m\u001b[0;34m\u001b[0m\u001b[0;34m\u001b[0m\u001b[0m\n",
      "\u001b[0;31mNameError\u001b[0m: name 'active_students' is not defined"
     ]
    }
   ],
   "source": [
    "#function\n",
    "functions.q_six(df)"
   ]
  },
  {
   "cell_type": "markdown",
   "id": "a248a0df",
   "metadata": {},
   "source": [
    "***Takeaways***"
   ]
  },
  {
   "cell_type": "markdown",
   "id": "0df47faf",
   "metadata": {},
   "source": [
    "# 7. Which lessons are least accessed?"
   ]
  },
  {
   "cell_type": "code",
   "execution_count": null,
   "id": "eee88042",
   "metadata": {},
   "outputs": [],
   "source": [
    "#function displaying cohorts and the least accessed lessons\n",
    "newer_df = functions.q_seven(df)\n",
    "newer_df.head()"
   ]
  },
  {
   "cell_type": "code",
   "execution_count": null,
   "id": "eb4ad4b2",
   "metadata": {},
   "outputs": [],
   "source": [
    "# function displaying the least accessed lessons by program\n",
    "newer_df2 = functions.q_seven_two(df)\n",
    "newer_df2"
   ]
  },
  {
   "cell_type": "markdown",
   "id": "0674f71b",
   "metadata": {},
   "source": [
    "***Takeaways***\n",
    "\n",
    "- Looking at the dataframe that was returned, we can see the least accessed lessons per program.\n",
    "     - I returned the 3 least accessed for each program just to get a bigger insight to the lessons.\n",
    "     - I also created a funtions to return the least accessed lessons per cohort."
   ]
  },
  {
   "cell_type": "markdown",
   "id": "8bd582e4",
   "metadata": {},
   "source": [
    "# 8. Anything else I should be aware of?"
   ]
  },
  {
   "cell_type": "code",
   "execution_count": null,
   "id": "f15cf8d2",
   "metadata": {},
   "outputs": [],
   "source": [
    "# function"
   ]
  },
  {
   "cell_type": "markdown",
   "id": "0e9710ac",
   "metadata": {},
   "source": [
    "***Takeaways***\n",
    "\n",
    "- Although the fourth Codeup cohort (Denali) has many students, the logs show that only one user accessed the lessons."
   ]
  },
  {
   "cell_type": "code",
   "execution_count": null,
   "id": "1da41267",
   "metadata": {},
   "outputs": [],
   "source": []
  }
 ],
 "metadata": {
  "kernelspec": {
   "display_name": "Python 3 (ipykernel)",
   "language": "python",
   "name": "python3"
  },
  "language_info": {
   "codemirror_mode": {
    "name": "ipython",
    "version": 3
   },
   "file_extension": ".py",
   "mimetype": "text/x-python",
   "name": "python",
   "nbconvert_exporter": "python",
   "pygments_lexer": "ipython3",
   "version": "3.9.13"
  }
 },
 "nbformat": 4,
 "nbformat_minor": 5
}
