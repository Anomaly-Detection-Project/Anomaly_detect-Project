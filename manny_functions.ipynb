{
 "cells": [
  {
   "cell_type": "markdown",
   "id": "f71ae00e",
   "metadata": {},
   "source": [
    "# Anomaly Detection Group Project <a id=\"questions\"></a>"
   ]
  },
  {
   "cell_type": "markdown",
   "id": "a0b91448",
   "metadata": {},
   "source": [
    "1. Which lesson appears to attract the most traffic consistently across cohorts (per program)?\n",
    "2. Is there a cohort that referred to a lesson significantly more than other cohorts seemed to gloss over?\n",
    "3. Are there students who, when active, hardly access the curriculum? If so, what information do you have about these students?\n",
    "4. Is there any suspicious activity, such as users/machines/etc accessing the curriculum who shouldn’t be? Does it appear that any web-scraping is happening? Are there any suspicious IP addresses?\n",
    "5. At some point in 2019, the ability for students and alumni to access both curriculums (web dev to ds, ds to web dev) should have been shut off. Do you see any evidence of that happening? Did it happen before?\n",
    "6. What topics are grads continuing to reference after graduation and into their jobs (for each program)?\n",
    "7. Which lessons are least accessed?\n",
    "8. Anything else I should be aware of?"
   ]
  },
  {
   "cell_type": "markdown",
   "id": "9dea3487",
   "metadata": {},
   "source": [
    "# acquire"
   ]
  },
  {
   "cell_type": "code",
   "execution_count": 1,
   "id": "34fc74b2",
   "metadata": {},
   "outputs": [],
   "source": [
    "import pandas as pd\n",
    "import os\n",
    "from env import *"
   ]
  },
  {
   "cell_type": "code",
   "execution_count": 2,
   "id": "d1cb3cc6",
   "metadata": {},
   "outputs": [],
   "source": [
    "def df_to_csv(df):\n",
    "    try:\n",
    "        df.to_csv(filename, index=False, mode='x')\n",
    "    except FileExistsError:\n",
    "        df.to_csv(filename,index=False)"
   ]
  },
  {
   "cell_type": "code",
   "execution_count": 3,
   "id": "71893064",
   "metadata": {},
   "outputs": [],
   "source": [
    "def manny_acquire(filename):\n",
    "    exists = os.path.isfile(filename)\n",
    "    if exists:\n",
    "        df = pd.read_csv(filename)\n",
    "        \n",
    "        return df\n",
    "    else:\n",
    "        #Define query\n",
    "        query = '''\n",
    "                select * \n",
    "                from `logs`\n",
    "                JOIN cohorts ON logs.cohort_id=cohorts.id;\n",
    "                '''\n",
    "        #Define url\n",
    "        url = get_db_url('curriculum_logs')\n",
    "        \n",
    "        #Read data from SQL server\n",
    "        df = pd.read_sql(query, url)\n",
    "        \n",
    "        #Cache\n",
    "        df_to_csv(df) \n",
    "        \n",
    "        return df"
   ]
  },
  {
   "cell_type": "markdown",
   "id": "497f8999",
   "metadata": {},
   "source": [
    "[Top](#questions)"
   ]
  },
  {
   "cell_type": "code",
   "execution_count": 4,
   "id": "0b2098c8",
   "metadata": {},
   "outputs": [],
   "source": [
    "def manny_clean(df):\n",
    "    # create datetime column and set as index\n",
    "    df['fixed_date']=df['date']+ ' ' +df['time']\n",
    "    df.set_index(pd.DatetimeIndex(df['fixed_date']), inplace=True)\n",
    "   \n",
    "    # drop unecessary columns after setting index\n",
    "    df = df.drop(columns = ['date','time','fixed_date'])\n",
    "   \n",
    "    # creating columns for names of program_id\n",
    "    df['data']= df['program_id']== 3\n",
    "    df['web']= df['program_id']== 2\n",
    "    df['php']= df['program_id']== 1\n",
    "    df['front_end']= df['program_id']== 4\n",
    "    \n",
    "    # fix cohort_id float datatype to interger\n",
    "    df['cohort_id'] = df['cohort_id'].astype(int)\n",
    "    \n",
    "    # fix 'to_date' column datatype to datetime\n",
    "    df['end_date'] = pd.to_datetime(df['end_date'])\n",
    "    \n",
    "    # df = df[df['path'].str.len()>3]\n",
    "    \n",
    "    return df"
   ]
  },
  {
   "cell_type": "markdown",
   "id": "924307c8",
   "metadata": {},
   "source": [
    "[Top](#questions)"
   ]
  },
  {
   "cell_type": "markdown",
   "id": "a1cbd545",
   "metadata": {},
   "source": [
    "```sql\n",
    "(CAST(logs.date as DATETIME) + CAST(logs.time AS TIME))as 'date_time'\n",
    "```"
   ]
  },
  {
   "cell_type": "code",
   "execution_count": 5,
   "id": "2fc9e223",
   "metadata": {},
   "outputs": [],
   "source": [
    "def manny_wrangle(): \n",
    "    df = manny_acquire('curriculum_logs.csv')\n",
    "    df = manny_clean(df) \n",
    "    return df"
   ]
  },
  {
   "cell_type": "markdown",
   "id": "d22d2150",
   "metadata": {},
   "source": [
    "[Top](#questions)"
   ]
  },
  {
   "cell_type": "code",
   "execution_count": 6,
   "id": "f8ed763e",
   "metadata": {},
   "outputs": [],
   "source": [
    "df = manny_wrangle()"
   ]
  },
  {
   "cell_type": "markdown",
   "id": "aa5c7005",
   "metadata": {},
   "source": [
    "# 1. Which lesson appears to attract the most traffic consistently across cohorts (per program)?"
   ]
  },
  {
   "cell_type": "markdown",
   "id": "249ca30b",
   "metadata": {},
   "source": [
    "[Top](#questions)"
   ]
  },
  {
   "cell_type": "code",
   "execution_count": 7,
   "id": "03e49534",
   "metadata": {},
   "outputs": [],
   "source": [
    "def question_01():\n",
    "    data_df = df[df['data']==True].copy()\n",
    "\n"
   ]
  },
  {
   "cell_type": "code",
   "execution_count": null,
   "id": "75507d50",
   "metadata": {},
   "outputs": [],
   "source": [
    "def question_06():\n",
    "    \n",
    "    \n",
    "    "
   ]
  },
  {
   "cell_type": "markdown",
   "id": "22ec0e72",
   "metadata": {},
   "source": [
    "### Most Accessed Path"
   ]
  },
  {
   "cell_type": "markdown",
   "id": "47e46632",
   "metadata": {},
   "source": [
    "[Top](#questions)"
   ]
  },
  {
   "cell_type": "code",
   "execution_count": 8,
   "id": "8c8aae46",
   "metadata": {},
   "outputs": [
    {
     "data": {
      "text/plain": [
       "False    743918\n",
       "True     103412\n",
       "Name: data, dtype: int64"
      ]
     },
     "execution_count": 8,
     "metadata": {},
     "output_type": "execute_result"
    }
   ],
   "source": [
    "df['data'].value_counts()"
   ]
  },
  {
   "cell_type": "markdown",
   "id": "e1cff7bd",
   "metadata": {},
   "source": [
    "### Data Science Subset DataFrame"
   ]
  },
  {
   "cell_type": "markdown",
   "id": "8e3c1ab3",
   "metadata": {},
   "source": [
    "[Top](#questions)"
   ]
  },
  {
   "cell_type": "markdown",
   "id": "6f53bfc3",
   "metadata": {},
   "source": [
    "each cohort, sort by count (top 10)\n",
    "\n",
    "each path is in list?"
   ]
  },
  {
   "cell_type": "code",
   "execution_count": null,
   "id": "b47a0ec4",
   "metadata": {},
   "outputs": [],
   "source": []
  },
  {
   "cell_type": "code",
   "execution_count": 9,
   "id": "f717d183",
   "metadata": {},
   "outputs": [],
   "source": [
    "data_df = df[df['data']==True].copy()"
   ]
  },
  {
   "cell_type": "code",
   "execution_count": 10,
   "id": "a4e3ca93",
   "metadata": {},
   "outputs": [
    {
     "data": {
      "text/plain": [
       "path          682\n",
       "user_id       111\n",
       "cohort_id       5\n",
       "ip            990\n",
       "id              5\n",
       "name            5\n",
       "slack           5\n",
       "start_date      5\n",
       "end_date        5\n",
       "created_at      5\n",
       "updated_at      5\n",
       "deleted_at      0\n",
       "program_id      1\n",
       "data            1\n",
       "web             1\n",
       "php             1\n",
       "front_end       1\n",
       "dtype: int64"
      ]
     },
     "execution_count": 10,
     "metadata": {},
     "output_type": "execute_result"
    }
   ],
   "source": [
    "data_df.nunique()"
   ]
  },
  {
   "cell_type": "code",
   "execution_count": 11,
   "id": "f9a9a014",
   "metadata": {},
   "outputs": [],
   "source": [
    "data_df = data_df[data_df['path']!= '/']"
   ]
  },
  {
   "cell_type": "code",
   "execution_count": 28,
   "id": "066a522c",
   "metadata": {},
   "outputs": [],
   "source": [
    "top_results = data_df.groupby(['cohort_id', 'path'])['id'].count().reset_index().sort_values(['cohort_id', 'id'], ascending=[True, False]).groupby('cohort_id').nth(0)"
   ]
  },
  {
   "cell_type": "markdown",
   "id": "0dd43b2b",
   "metadata": {},
   "source": [
    "[Top](#questions)"
   ]
  },
  {
   "cell_type": "code",
   "execution_count": 29,
   "id": "c6338780",
   "metadata": {},
   "outputs": [
    {
     "data": {
      "text/html": [
       "<div>\n",
       "<style scoped>\n",
       "    .dataframe tbody tr th:only-of-type {\n",
       "        vertical-align: middle;\n",
       "    }\n",
       "\n",
       "    .dataframe tbody tr th {\n",
       "        vertical-align: top;\n",
       "    }\n",
       "\n",
       "    .dataframe thead th {\n",
       "        text-align: right;\n",
       "    }\n",
       "</style>\n",
       "<table border=\"1\" class=\"dataframe\">\n",
       "  <thead>\n",
       "    <tr style=\"text-align: right;\">\n",
       "      <th></th>\n",
       "      <th>path</th>\n",
       "      <th>id</th>\n",
       "    </tr>\n",
       "    <tr>\n",
       "      <th>cohort_id</th>\n",
       "      <th></th>\n",
       "      <th></th>\n",
       "    </tr>\n",
       "  </thead>\n",
       "  <tbody>\n",
       "    <tr>\n",
       "      <th>34</th>\n",
       "      <td>1-fundamentals/modern-data-scientist.jpg</td>\n",
       "      <td>650</td>\n",
       "    </tr>\n",
       "    <tr>\n",
       "      <th>55</th>\n",
       "      <td>6-regression/1-overview</td>\n",
       "      <td>595</td>\n",
       "    </tr>\n",
       "    <tr>\n",
       "      <th>59</th>\n",
       "      <td>classification/overview</td>\n",
       "      <td>1109</td>\n",
       "    </tr>\n",
       "    <tr>\n",
       "      <th>133</th>\n",
       "      <td>classification/scale_features_or_not.svg</td>\n",
       "      <td>463</td>\n",
       "    </tr>\n",
       "    <tr>\n",
       "      <th>137</th>\n",
       "      <td>fundamentals/modern-data-scientist.jpg</td>\n",
       "      <td>627</td>\n",
       "    </tr>\n",
       "  </tbody>\n",
       "</table>\n",
       "</div>"
      ],
      "text/plain": [
       "                                               path    id\n",
       "cohort_id                                                \n",
       "34         1-fundamentals/modern-data-scientist.jpg   650\n",
       "55                          6-regression/1-overview   595\n",
       "59                          classification/overview  1109\n",
       "133        classification/scale_features_or_not.svg   463\n",
       "137          fundamentals/modern-data-scientist.jpg   627"
      ]
     },
     "execution_count": 29,
     "metadata": {},
     "output_type": "execute_result"
    }
   ],
   "source": [
    "top_results"
   ]
  },
  {
   "cell_type": "code",
   "execution_count": 16,
   "id": "d04eb6a1",
   "metadata": {},
   "outputs": [],
   "source": [
    "# df = df[df['path'].str.len()>3]"
   ]
  },
  {
   "cell_type": "markdown",
   "id": "96e8549e",
   "metadata": {},
   "source": [
    "```python\n",
    "answer_1 = df.groupby(['program_id', 'path'])\n",
    "['id'].\n",
    "count().\n",
    "reset_index().\n",
    "sort_values(['program_id', 'id'],\n",
    "ascending=[True, False])\n",
    "```"
   ]
  },
  {
   "cell_type": "markdown",
   "id": "919424d9",
   "metadata": {},
   "source": [
    "# What topics are grads continuing to reference after graduation and into their jobs (for each program)?"
   ]
  },
  {
   "cell_type": "markdown",
   "id": "423712db",
   "metadata": {},
   "source": [
    "[Top](#questions)"
   ]
  },
  {
   "cell_type": "code",
   "execution_count": 35,
   "id": "536bd5a1",
   "metadata": {},
   "outputs": [
    {
     "name": "stdout",
     "output_type": "stream",
     "text": [
      "path\n",
      "/                           92\n",
      "javascript-i                56\n",
      "search/search_index.json    50\n",
      "html-css                    48\n",
      "spring                      48\n",
      "                            ..\n",
      "coffee_consumption.csv       1\n",
      "cohorts/27/quizzes           1\n",
      "collections                  1\n",
      "conditionals                 1\n",
      "wp-login                     1\n",
      "Name: id, Length: 1848, dtype: int64\n"
     ]
    }
   ],
   "source": [
    "# Filter the logs by users who have already graduated\n",
    "grads_logs = df[df['end_date'].notnull()]\n",
    "\n",
    "# Group the filtered logs by path and user_id, and count the number of accesses\n",
    "topics_by_user = grads_logs.groupby(['path', 'user_id'])['id'].count()\n",
    "\n",
    "# Filter the logs by the graduating date for each user\n",
    "grad_date_by_user = grads_logs.groupby('user_id')['end_date'].max()\n",
    "\n",
    "# function to check if a log row is after a user's graduating date\n",
    "def is_after_grad_date(row):\n",
    "    user_id = row['user_id']\n",
    "    log_date = row.name\n",
    "    grad_date = grad_date_by_user[user_id]\n",
    "    return log_date > grad_date\n",
    "\n",
    "# Filter the logs by the graduating date for each user and count the number of accesses to each path by each user after their graduating date\n",
    "topics_by_user_after_grad_date = grads_logs[grads_logs.apply(is_after_grad_date, axis=1)].groupby(['path', 'user_id'])['id'].count()\n",
    "\n",
    "# Group the filtered logs by path, count the number of unique users who accessed each path after their graduating date, and sort the result\n",
    "topics_by_access = topics_by_user_after_grad_date.groupby('path').nunique().sort_values(ascending=False)\n",
    "\n",
    "# ouput\n",
    "print(topics_by_access)"
   ]
  },
  {
   "cell_type": "code",
   "execution_count": null,
   "id": "5b04d1d2",
   "metadata": {},
   "outputs": [],
   "source": []
  }
 ],
 "metadata": {
  "kernelspec": {
   "display_name": "Python 3 (ipykernel)",
   "language": "python",
   "name": "python3"
  },
  "language_info": {
   "codemirror_mode": {
    "name": "ipython",
    "version": 3
   },
   "file_extension": ".py",
   "mimetype": "text/x-python",
   "name": "python",
   "nbconvert_exporter": "python",
   "pygments_lexer": "ipython3",
   "version": "3.9.15"
  }
 },
 "nbformat": 4,
 "nbformat_minor": 5
}
