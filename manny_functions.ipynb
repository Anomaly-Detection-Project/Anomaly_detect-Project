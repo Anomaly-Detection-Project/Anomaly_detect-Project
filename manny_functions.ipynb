{
 "cells": [
  {
   "cell_type": "markdown",
   "id": "f71ae00e",
   "metadata": {},
   "source": [
    "# Anomaly Detection Group Project"
   ]
  },
  {
   "cell_type": "markdown",
   "id": "a0b91448",
   "metadata": {},
   "source": [
    "1. Which lesson appears to attract the most traffic consistently across cohorts (per program)?\n",
    "2. Is there a cohort that referred to a lesson significantly more than other cohorts seemed to gloss over?\n",
    "3. Are there students who, when active, hardly access the curriculum? If so, what information do you have about these students?\n",
    "4. Is there any suspicious activity, such as users/machines/etc accessing the curriculum who shouldn’t be? Does it appear that any web-scraping is happening? Are there any suspicious IP addresses?\n",
    "5. At some point in 2019, the ability for students and alumni to access both curriculums (web dev to ds, ds to web dev) should have been shut off. Do you see any evidence of that happening? Did it happen before?\n",
    "6. What topics are grads continuing to reference after graduation and into their jobs (for each program)?\n",
    "7. Which lessons are least accessed?\n",
    "8. Anything else I should be aware of?"
   ]
  },
  {
   "cell_type": "markdown",
   "id": "0eb5f715",
   "metadata": {},
   "source": [
    "# acquire"
   ]
  },
  {
   "cell_type": "code",
   "execution_count": 2,
   "id": "322cde1e",
   "metadata": {},
   "outputs": [],
   "source": [
    "import pandas as pd\n",
    "import os\n",
    "from env import *"
   ]
  },
  {
   "cell_type": "code",
   "execution_count": 3,
   "id": "ceb57b9f",
   "metadata": {},
   "outputs": [],
   "source": [
    "def df_to_csv(df):\n",
    "    try:\n",
    "        df.to_csv(filename, index=False, mode='x')\n",
    "    except FileExistsError:\n",
    "        df.to_csv(filename,index=False)"
   ]
  },
  {
   "cell_type": "code",
   "execution_count": 4,
   "id": "7186c044",
   "metadata": {},
   "outputs": [],
   "source": [
    "def offline_lesson_kernel_restart():\n",
    "    exists = os.path.isfile(filename)\n",
    "    if exists:\n",
    "        df = pd.read_csv(filename)\n",
    "        \n",
    "        return df\n",
    "    else:\n",
    "        #Define query\n",
    "        query = '''\n",
    "                select * \n",
    "                from `logs`\n",
    "                JOIN cohorts ON logs.cohort_id=cohorts.id;\n",
    "                '''\n",
    "        #Define url\n",
    "        url = get_db_url('curriculum_logs')\n",
    "        \n",
    "        #Read data from SQL server\n",
    "        df = pd.read_sql(query, url)\n",
    "        \n",
    "        #Cache\n",
    "        df_to_csv(df)\n",
    "        \n",
    "        return df"
   ]
  },
  {
   "cell_type": "code",
   "execution_count": 5,
   "id": "e221463c",
   "metadata": {},
   "outputs": [],
   "source": [
    "filename = \"curriculum_logs.csv\""
   ]
  },
  {
   "cell_type": "code",
   "execution_count": null,
   "id": "be40cf96",
   "metadata": {},
   "outputs": [],
   "source": [
    "df = offline_lesson_kernel_restart()"
   ]
  },
  {
   "cell_type": "code",
   "execution_count": null,
   "id": "04f369ea",
   "metadata": {},
   "outputs": [],
   "source": [
    "df.head()"
   ]
  },
  {
   "cell_type": "code",
   "execution_count": null,
   "id": "c7237fd1",
   "metadata": {},
   "outputs": [],
   "source": []
  }
 ],
 "metadata": {
  "kernelspec": {
   "display_name": "Python 3 (ipykernel)",
   "language": "python",
   "name": "python3"
  },
  "language_info": {
   "codemirror_mode": {
    "name": "ipython",
    "version": 3
   },
   "file_extension": ".py",
   "mimetype": "text/x-python",
   "name": "python",
   "nbconvert_exporter": "python",
   "pygments_lexer": "ipython3",
   "version": "3.9.15"
  }
 },
 "nbformat": 4,
 "nbformat_minor": 5
}
